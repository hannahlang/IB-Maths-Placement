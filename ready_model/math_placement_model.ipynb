{
 "cells": [
  {
   "cell_type": "markdown",
   "id": "3d79a09b-b8ae-4ae0-9925-59cc0b609437",
   "metadata": {},
   "source": [
    "# Imports"
   ]
  },
  {
   "cell_type": "code",
   "execution_count": 1,
   "id": "01a721d5-2db0-4e0c-bf33-366122317bac",
   "metadata": {},
   "outputs": [],
   "source": [
    "import pandas as pd\n",
    "import numpy as np\n",
    "import re\n",
    "import seaborn as sns\n",
    "import matplotlib.pyplot as plt\n",
    "from sklearn.linear_model import LogisticRegression\n",
    "from sklearn.ensemble import RandomForestClassifier\n",
    "from sklearn.model_selection import train_test_split\n",
    "from sklearn.model_selection import cross_validate\n",
    "from sklearn.metrics import f1_score\n",
    "from sklearn.model_selection import learning_curve\n",
    "from sklearn.cluster import KMeans\n",
    "from sklearn.metrics import precision_score\n",
    "from sklearn.metrics import recall_score\n",
    "import networkx as nx\n",
    "import ipywidgets as widgets\n",
    "from ipywidgets import interact, interactive, fixed\n",
    "from sklearn.base import BaseEstimator\n",
    "from sklearn.base import TransformerMixin\n",
    "from sklearn.base import clone\n",
    "from sklearn.metrics.pairwise import cosine_similarity\n",
    "from math_placement_model import *\n",
    "import pickle\n",
    "import warnings"
   ]
  },
  {
   "cell_type": "markdown",
   "id": "5cfeb01e-de51-4f3d-86e9-9c64c2458b6d",
   "metadata": {},
   "source": [
    "## Data Paths"
   ]
  },
  {
   "cell_type": "markdown",
   "id": "d7f22300-7615-4be1-9cb7-01785756c24a",
   "metadata": {},
   "source": [
    "<b> NOTE: </b>\n",
    "\n",
    "<b> Placement test data </b> as input to the model must be in a csv file that has <i>exactly</i> the following columns:\n",
    "1. Student\n",
    "2. Currently in\n",
    "3. Columns in the form: skill_questionum_level\n",
    "- Where skill is one of [num_ops, quad, func, geom, alg_exp, expn, linear]\n",
    "- Where questionum is an integer\n",
    "- Where level is an integer from 1-3."
   ]
  },
  {
   "cell_type": "markdown",
   "id": "4ac14714-a292-48a1-af58-1145a38e1d0c",
   "metadata": {},
   "source": [
    "<b> IB results data </b> to be added to the training set must be in a csv file that has <i>at least</i> the following columns:\n",
    "1. 'Year'\n",
    "2. 'Subject'\n",
    "3. 'Level'\n",
    "4. 'Grade'"
   ]
  },
  {
   "cell_type": "code",
   "execution_count": 2,
   "id": "32a8c3d8-522c-4a92-b9bb-d9bf1dfb6a7d",
   "metadata": {},
   "outputs": [],
   "source": [
    "#Pathway to training data.\n",
    "X_TRAIN_PATH = 'X_train_10_6.pkl'\n",
    "Y_TRAIN_PATH = 'y_train_10_6.pkl'\n",
    "\n",
    "#Pathway to untrained model with parameters.\n",
    "BASE_MODEL_UNTRAINED_PATH = 'base_model_untrained_10_6.pkl'"
   ]
  },
  {
   "cell_type": "code",
   "execution_count": 3,
   "id": "a4c4cbab-c79c-4b75-b5d7-ed0eda45a1f8",
   "metadata": {},
   "outputs": [],
   "source": [
    "#Loading training data.\n",
    "X_train = pickle.load(open(X_TRAIN_PATH, 'rb'))\n",
    "y_train = pickle.load(open(Y_TRAIN_PATH, 'rb'))"
   ]
  },
  {
   "cell_type": "code",
   "execution_count": 4,
   "id": "476945bf-7f04-4eda-8eff-fac27537b032",
   "metadata": {},
   "outputs": [],
   "source": [
    "#Load pre-trained model\n",
    "PRE_TRAINED_MODEL_PATH = 'math_prediction_model_11_06.pkl'"
   ]
  },
  {
   "cell_type": "code",
   "execution_count": 5,
   "id": "857144e5-0bfc-48d0-9a4b-467e474c5999",
   "metadata": {},
   "outputs": [],
   "source": [
    "# UPDATE_TRAIN is set to false by default. \n",
    "#If set to True, the model will retrain on a larger dataset. \n",
    "UPDATE_TRAIN = False"
   ]
  },
  {
   "cell_type": "code",
   "execution_count": 6,
   "id": "04201729-2ca9-4a37-b676-fe215e1e50be",
   "metadata": {},
   "outputs": [],
   "source": [
    "# You must add the pathway to the additional training data that you want to add to the model.\n",
    "# Fill in the fields that are commented out below.\n",
    "if UPDATE_TRAIN:\n",
    "    ADD_RAW_X_TRAIN_PATH = ''#insert file name of additional training data (placement scores)''\n",
    "    ADD_RAW_Y_TRAIN_PATH = ''#insert file name of additional training data (IB results)''\n",
    "    BASE_MODEL_UNTRAINED_PATH = 'base_model_untrained_10_6.pkl'\n",
    "    DATE = ''#fill in with current date."
   ]
  },
  {
   "cell_type": "code",
   "execution_count": 7,
   "id": "14e59f30-be7d-410f-a05a-dfd85002f279",
   "metadata": {},
   "outputs": [],
   "source": [
    "#NOTE: This data was used in developing the model. \n",
    "#It is included only for demonstration of notebook functionality.\n",
    "RAW_TEST_PATH = 'placement_scores_no_names_2021.csv'"
   ]
  },
  {
   "cell_type": "markdown",
   "id": "ebf4dd11-0fe6-47b5-aa85-1fc6541a4390",
   "metadata": {},
   "source": [
    "# Prepare Training/Testing Data"
   ]
  },
  {
   "cell_type": "code",
   "execution_count": 8,
   "id": "4c9fc4cb-49bb-40f1-a978-07bc5fea91c6",
   "metadata": {},
   "outputs": [],
   "source": [
    "df_transformer = prepare_clean_df(X_train, y_train)\n",
    "\n",
    "if UPDATE_TRAIN:\n",
    "    #Add training data to the existing training data.\n",
    "    X_train_upd, y_train_upd = df_transformer.transform(x_file_path = ADD_RAW_X_TRAIN_PATH, \n",
    "                                                      y_file_path = ADD_RAW_Y_TRAIN_PATH,\n",
    "                                                      train_test = 'train')\n",
    "    #Pickle the new training data and save with the current date.\n",
    "    pickle.dump(X_train_upd,open('X_train_' + DATE + '.pkl', 'wb'))\n",
    "    pickle.dump(y_train_upd,open('y_train_' + DATE + '.pkl', 'wb'))\n",
    "\n",
    "#Import and clean the testing data.\n",
    "X_test = df_transformer.transform(x_file_path = RAW_TEST_PATH, \n",
    "                                        train_test = 'test')"
   ]
  },
  {
   "cell_type": "markdown",
   "id": "47ffab33-cd44-488b-8b82-9000904cc575",
   "metadata": {},
   "source": [
    "# The model"
   ]
  },
  {
   "cell_type": "markdown",
   "id": "3bd4105b-5f1b-4732-a686-52dbf990ee7e",
   "metadata": {},
   "source": [
    "## Load Model"
   ]
  },
  {
   "cell_type": "code",
   "execution_count": 9,
   "id": "33bf7333-9d4c-4278-ad2a-bb84b1b7bb70",
   "metadata": {},
   "outputs": [],
   "source": [
    "if UPDATE_TRAIN:\n",
    "    # Print results of original model.\n",
    "    base_model = pickle.load(open(BASE_MODEL_UNTRAINED_PATH, 'rb'))\n",
    "    print('Pre-trained model:\\n')\n",
    "    cross_validate_model(base_model, X_train, y_train, scorer = 'f1_weighted', plot = False)  \n",
    "    #Print results of model on updated data.\n",
    "    print('\\n\\nUpdated model:\\n')\n",
    "    cross_validate_model(base_model, X_train_upd, y_train_upd, scorer = 'f1_weighted')\n",
    "    #Train the model on the updated data.\n",
    "    base_model =  pickle.load(open(BASE_MODEL_UNTRAINED_PATH, 'rb')) \n",
    "    mp_prediction = math_placement_prediction_model(base_model)\n",
    "    mp_prediction.fit(X_train_upd, y_train_upd)\n",
    "    pickle.dump(mp_prediction, open('math_prediction_model_' + DATE + '.pkl', 'wb'))\n",
    "\n",
    "else:\n",
    "    mp_prediction = pickle.load(open(PRE_TRAINED_MODEL_PATH, 'rb'))"
   ]
  },
  {
   "cell_type": "markdown",
   "id": "86f671b3-ca09-4b24-92c4-f437a76d8858",
   "metadata": {},
   "source": [
    "## Run Model"
   ]
  },
  {
   "cell_type": "code",
   "execution_count": 10,
   "id": "5419e45b-e4e8-49bf-ae18-f4ef76888903",
   "metadata": {},
   "outputs": [
    {
     "name": "stdout",
     "output_type": "stream",
     "text": [
      "86.79% of the predictions were predicted with probability above 0.5.\n",
      "\n",
      "\n",
      "43.40% of the lower boundaries of the confidence intervals had probabilities above 0.5.\n",
      "\n",
      "\n"
     ]
    },
    {
     "data": {
      "image/png": "[encoded data removed]",
      "text/plain": [
       "<Figure size 576x432 with 1 Axes>"
      ]
     },
     "metadata": {},
     "output_type": "display_data"
    }
   ],
   "source": [
    "predictions = mp_prediction.predict(X_test, c_i=80)"
   ]
  },
  {
   "cell_type": "code",
   "execution_count": 11,
   "id": "250bc4a3-5126-4114-821a-f9597332936d",
   "metadata": {},
   "outputs": [
    {
     "data": {
      "text/html": [
       "<div>\n",
       "<style scoped>\n",
       "    .dataframe tbody tr th:only-of-type {\n",
       "        vertical-align: middle;\n",
       "    }\n",
       "\n",
       "    .dataframe tbody tr th {\n",
       "        vertical-align: top;\n",
       "    }\n",
       "\n",
       "    .dataframe thead th {\n",
       "        text-align: right;\n",
       "    }\n",
       "</style>\n",
       "<table border=\"1\" class=\"dataframe\">\n",
       "  <thead>\n",
       "    <tr style=\"text-align: right;\">\n",
       "      <th></th>\n",
       "      <th>pred_prob</th>\n",
       "      <th>lower_ci_val</th>\n",
       "      <th>upper_ci_val</th>\n",
       "      <th>pred_label</th>\n",
       "      <th>lower_conf_label</th>\n",
       "    </tr>\n",
       "    <tr>\n",
       "      <th>Student</th>\n",
       "      <th></th>\n",
       "      <th></th>\n",
       "      <th></th>\n",
       "      <th></th>\n",
       "      <th></th>\n",
       "    </tr>\n",
       "  </thead>\n",
       "  <tbody>\n",
       "    <tr>\n",
       "      <th>Student 139</th>\n",
       "      <td>0.610325</td>\n",
       "      <td>0.465301</td>\n",
       "      <td>0.744136</td>\n",
       "      <td>Math AA HL</td>\n",
       "      <td>Math AA HL</td>\n",
       "    </tr>\n",
       "    <tr>\n",
       "      <th>Student 140</th>\n",
       "      <td>0.532269</td>\n",
       "      <td>0.469744</td>\n",
       "      <td>0.673495</td>\n",
       "      <td>Math AA HL</td>\n",
       "      <td>Math AA SL</td>\n",
       "    </tr>\n",
       "  </tbody>\n",
       "</table>\n",
       "</div>"
      ],
      "text/plain": [
       "             pred_prob  lower_ci_val  upper_ci_val  pred_label  \\\n",
       "Student                                                          \n",
       "Student 139   0.610325      0.465301      0.744136  Math AA HL   \n",
       "Student 140   0.532269      0.469744      0.673495  Math AA HL   \n",
       "\n",
       "            lower_conf_label  \n",
       "Student                       \n",
       "Student 139       Math AA HL  \n",
       "Student 140       Math AA SL  "
      ]
     },
     "execution_count": 11,
     "metadata": {},
     "output_type": "execute_result"
    }
   ],
   "source": [
    "predictions.head(2)"
   ]
  },
  {
   "cell_type": "markdown",
   "id": "6749d3eb-e001-4447-9494-5e81a36c53ed",
   "metadata": {},
   "source": [
    "## Confidence Intervals Widget by Student Name"
   ]
  },
  {
   "cell_type": "markdown",
   "id": "dacad199-b5c1-476d-9920-285775cf732c",
   "metadata": {},
   "source": [
    "### Actual Widget"
   ]
  },
  {
   "cell_type": "code",
   "execution_count": 12,
   "id": "760d786f-7976-4f87-9d8b-dd5f7c87da19",
   "metadata": {},
   "outputs": [
    {
     "data": {
      "application/vnd.jupyter.widget-view+json": {
       "model_id": "6a862063aa174609a9afe25af793cbf7",
       "version_major": 2,
       "version_minor": 0
      },
      "text/plain": [
       "interactive(children=(Dropdown(description='idx', options=('Student 139', 'Student 140', 'Student 141', 'Stude…"
      ]
     },
     "metadata": {},
     "output_type": "display_data"
    }
   ],
   "source": [
    "#Confidence intervals by student name.\n",
    "mp_prediction.c_i_widget()"
   ]
  },
  {
   "cell_type": "markdown",
   "id": "169a7571-d73f-470d-8eec-b17b7fc9db55",
   "metadata": {},
   "source": [
    "### Sample output (widget only available when running jupyter)"
   ]
  },
  {
   "cell_type": "markdown",
   "id": "5849e18a-7e3d-4e73-a31b-74fb7e91c964",
   "metadata": {},
   "source": [
    "<img src='ci_widget_sample.png' alt=\"drawing\" width=\"320\"/>"
   ]
  },
  {
   "cell_type": "markdown",
   "id": "d66dfd7c-8ce9-441d-813b-e1a4990a0339",
   "metadata": {},
   "source": [
    "## Email Widget by Student Name"
   ]
  },
  {
   "cell_type": "markdown",
   "id": "e894693b-71a2-48d3-b76e-771b96748e5d",
   "metadata": {},
   "source": [
    "### Actual Widget"
   ]
  },
  {
   "cell_type": "code",
   "execution_count": 13,
   "id": "23d024e9-8ac7-4b7a-a276-98737711f451",
   "metadata": {},
   "outputs": [
    {
     "data": {
      "application/vnd.jupyter.widget-view+json": {
       "model_id": "2fb36c501e5349bb91d2f96abe78dbc8",
       "version_major": 2,
       "version_minor": 0
      },
      "text/plain": [
       "interactive(children=(Dropdown(description='idx', options=('Student 139', 'Student 140', 'Student 141', 'Stude…"
      ]
     },
     "metadata": {},
     "output_type": "display_data"
    }
   ],
   "source": [
    "#Email widget takes the path to the raw test data, and the \n",
    "#predictions from the confidence interval model and outputs an email to the student.\n",
    "email_widget(raw_test_path = RAW_TEST_PATH, ci_predictions = predictions)"
   ]
  },
  {
   "cell_type": "markdown",
   "id": "f1561cdc-24c6-49e9-b442-24d5d622a2eb",
   "metadata": {},
   "source": [
    "### Sample output (widget only available when running jupyter)"
   ]
  },
  {
   "cell_type": "markdown",
   "id": "d8cd8680-58dc-463d-90ee-f52430dad301",
   "metadata": {},
   "source": [
    "<b>Example #1:</b>\n",
    "\n",
    "<img src='email_sample_1.png' alt=\"drawing\" width=\"300\"/>"
   ]
  },
  {
   "cell_type": "markdown",
   "id": "2a3513b2-f45d-4345-a2b1-e7e99ee6fb94",
   "metadata": {},
   "source": [
    "<b> Example #2: </b>\n",
    "\n",
    "<img src='email_sample_2.png' alt=\"drawing\" width=\"600\"/>"
   ]
  },
  {
   "cell_type": "code",
   "execution_count": null,
   "id": "2e568965-6774-4822-b62f-a134d538fbfb",
   "metadata": {},
   "outputs": [],
   "source": []
  }
 ],
 "metadata": {
  "kernelspec": {
   "display_name": "Python 3 (ipykernel)",
   "language": "python",
   "name": "python3"
  },
  "language_info": {
   "codemirror_mode": {
    "name": "ipython",
    "version": 3
   },
   "file_extension": ".py",
   "mimetype": "text/x-python",
   "name": "python",
   "nbconvert_exporter": "python",
   "pygments_lexer": "ipython3",
   "version": "3.7.9"
  },
  "toc-autonumbering": true
 },
 "nbformat": 4,
 "nbformat_minor": 5
}
